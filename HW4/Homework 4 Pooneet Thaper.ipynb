{
 "cells": [
  {
   "cell_type": "markdown",
   "metadata": {},
   "source": [
    "<center>\n",
    "<h1>CSC 301 Spring 2018: Homework 4</h1>\n",
    "<h2>Pooneet Thaper</h2>\n",
    "<h2>Professor Irina Gladkova</h2>\n",
    "</center>"
   ]
  },
  {
   "cell_type": "markdown",
   "metadata": {},
   "source": [
    "## Problem 1:\n",
    "### Determine the number of intervals required to approximate\n",
    "$$\\int_{0}^{2} \\frac{1}{x+4} dx$$\n",
    "### to within $10^{-5}$ and compute the approximation."
   ]
  },
  {
   "cell_type": "code",
   "execution_count": 1,
   "metadata": {},
   "outputs": [],
   "source": [
    "import numpy as np\n",
    "import scipy.integrate as integrate\n",
    "\n",
    "def f_prob_1(x, deriv = 0):\n",
    "    if isinstance(x,(int,float)):\n",
    "        return np.math.factorial(deriv+1)/((x+4)**(deriv+1))\n",
    "    else:\n",
    "        return np.math.factorial(deriv+1)/(np.add(x,4*np.ones_like(x))**(deriv+1))\n",
    "\n",
    "def eval_composite_rule(rule, func, a, b, n):\n",
    "    ''' \n",
    "    Precondition:\n",
    "       - rule: string containing the name of the rule to be used for approximation\n",
    "       - func: string containing name of the function on which to evaluate the rule\n",
    "       - a: float for left bound of the interval\n",
    "       - b: float for right bound of the interval\n",
    "       - n: int for number of intervals to use for composition\n",
    "       \n",
    "    Postcondition:\n",
    "       - returns sum of resulting approximations of intervals using the chosen rule\n",
    "    '''\n",
    "    a = float(a)\n",
    "    b = float(b)\n",
    "    if not isinstance(func, str):\n",
    "        func = func.__name__\n",
    "    \n",
    "    points = [a]\n",
    "    step = (b-a)/n\n",
    "    for i in range(n):\n",
    "        points.append(points[-1]+step)\n",
    "    \n",
    "    return sum([eval(\"eval_{}({},{},{})\".format(rule, str(func), points[i], points[i+1])) \n",
    "                for i in range(n)])\n",
    "        "
   ]
  },
  {
   "cell_type": "code",
   "execution_count": 11,
   "metadata": {},
   "outputs": [],
   "source": [
    "# Composition Rules to be used with eval_composition_rule in previous cell\n",
    "\n",
    "def eval_trapazoid(func, a, b):\n",
    "    '''\n",
    "    Precondition: \n",
    "       - func: input string containing name of the function on which to evaluate the rule\n",
    "       - a: left bound of the interval\n",
    "       - b: right bound of the interval\n",
    "       \n",
    "    Postcondition:\n",
    "       - returns the approximation of the integral of function func on [a,b] \n",
    "         using the trapazoid rule\n",
    "    '''\n",
    "    \n",
    "    if not isinstance(func, str):\n",
    "        func = func.__name__\n",
    "    weights = [1.0, 1.0]\n",
    "    points = [a, b]\n",
    "    return (b-a)*sum([eval(\"{}({})\".format(func, point))*weights[idx] \n",
    "                      for idx, point in enumerate(points)])/sum(weights)\n",
    "\n",
    "def eval_simpson(func, a, b):\n",
    "    '''Precondition: \n",
    "       - func: input string containing name of the function on which to evaluate the rule\n",
    "       - a: left bound of the interval\n",
    "       - b: right bound of the interval\n",
    "       \n",
    "       Postcondition:\n",
    "       - returns the approximation of the integral of function func on [a,b] \n",
    "         using the simpson rule\n",
    "    '''\n",
    "    \n",
    "    if not isinstance(func, str):\n",
    "        func = func.__name__\n",
    "    weights = [1.0, 4.0, 1.0]\n",
    "    points = [a, (a+b)/2, b]\n",
    "    return (b-a)*sum([eval(\"{}({})\".format(func, point))*weights[idx] \n",
    "                for idx, point in enumerate(points)])/sum(weights)\n",
    "\n",
    "def eval_gauss(func, a, b):\n",
    "    '''Precondition: \n",
    "       - func: input string containing name of the function on which to evaluate the rule\n",
    "       - a: left bound of the interval\n",
    "       - b: right bound of the interval\n",
    "       \n",
    "       Postcondition:\n",
    "       - returns the approximation of the integral of function func on [a,b] \n",
    "         using the gauss-legendre quadrature\n",
    "    '''\n",
    "    if not isinstance(func, str):\n",
    "        func = func.__name__\n",
    "    weights = [1.0, 1.0]\n",
    "    points = [(((1-np.sqrt(3))*(b-1))/2)+a,  (((1+np.sqrt(3))*(b-1))/2)+a,]\n",
    "    return (b-a)*sum([eval(\"{}({})\".format(func, point))*weights[idx] \n",
    "                for idx, point in enumerate(points)])/sum(weights)"
   ]
  },
  {
   "cell_type": "markdown",
   "metadata": {},
   "source": [
    "### a) Using the Composite Trapazoid rule;\n",
    "\n",
    "#### Given the error formula for Composite Newton-Cotes rules:\n",
    "$$  \n",
    "\\begin{align*}\n",
    "\\left| \\int_{a}^{b} f(x)dx - Q_{NC(m)} \\right| \\leq c_m\\ f^{(d+1)}(\\eta)\\ (\\frac{b-a}{m-1})^{d+2}\\ (\\frac{1}{n^{d+1}})   \\\\\n",
    "d(m) = \\begin{cases} \n",
    "      m-1 & m \\textrm{ is even}  \\\\\n",
    "      m & m \\textrm{ is odd}\n",
    "   \\end{cases}\n",
    "\\end{align*}\n",
    "$$\n",
    "\n",
    "#### we can solve for the number of intervals we would need to acheive an upper bound on the error to within $10^{-5}$. We could take the upper bound on the appropriate derivitive throughout the interval $ [a,b] $ and use that upper bound in the above formula, which will give us an overestimate of the number of intervals needed. This is because we are assuming that the upper bound of the appropriate derivitive is approximate the same in each interval.\n",
    "#### In the case of $ f(x) = \\frac{1}{x-4}$, the derivitives monotonically decrease as $ x $ increases, meaning we could have a much smaller derivitive in intervals closer to the right endpoint $ b $, and thus have a lower error in those intervals. This could offset the error from larger intervals closer to the left endpoint $ a $, where the derivitive will be larger, using the smaller error in the intervals closer to the right endpoint $b$, thus allowing fewer, larger intervals."
   ]
  },
  {
   "cell_type": "markdown",
   "metadata": {},
   "source": [
    "#### Using the first approach, we can solve for n:\n",
    "$$\n",
    "\\begin{align*}\n",
    "c_m\\ f^{(d+1)}(\\eta)\\ (\\frac{b-a}{m-1})^{d+2}\\ (\\frac{1}{n^{d+1}}) < \\epsilon \\\\\n",
    "n > \\sqrt[\\leftroot{-2}\\uproot{2}{d+1}]{c_m\\ f^{(d+1)}(\\eta)\\ (\\frac{b-a}{m-1})^{d+2}\\ \\frac{1}{\\epsilon}}\\\\\n",
    "\\end{align*}\n",
    "$$\n",
    "#### Plugging in $ m = 2,\\; d = 1,\\; a = 0, \\; b = 2,\\; c_m = \\frac{1}{12},\\; f^{(d+1)}(\\eta) = \\frac{1}{32},$ and $\\; \\epsilon = 10^{-5} $ we get:\n",
    "$$\n",
    "\\begin{equation}\n",
    "n > \\sqrt[\\leftroot{-2}\\uproot{2}{d+1}]{c_m\\ f^{(d+1)}(\\eta)\\ (\\frac{b-a}{m-1})^{d+2}\\ \\frac{1}{\\epsilon}}\\\\\n",
    "n > \\sqrt[\\leftroot{-2}\\uproot{2}{1+1}]{(\\frac{1}{12})\\ (\\frac{1}{32})\\ (\\frac{2-0}{2-1})^{1+2}\\ (\\frac{1}{10^{-5}})}\\\\\n",
    "n > 45.64 \\\\\n",
    "\\end{equation}\n",
    "$$\n",
    "#### The Trapazoid Rule requires at least 46 intervals to acheive an approximation to within $ 10^{-5}$."
   ]
  },
  {
   "cell_type": "code",
   "execution_count": 48,
   "metadata": {},
   "outputs": [
    {
     "name": "stdout",
     "output_type": "stream",
     "text": [
      "Composite Simpson Approximation (see code above): 0.4054651081314989\n",
      "SciPy.Integrate.trapz Approximation:\t\t  0.405470577804\n",
      "SciPy.Integrate.Quad(integration, abs error):\t (0.4054651081081644, 4.501566987038123e-15)\n"
     ]
    }
   ],
   "source": [
    "a = 0.0\n",
    "b = 2.0\n",
    "n = 46\n",
    "x = np.linspace(a, b, num=n+1)\n",
    "y = f_prob_1(x)\n",
    "\n",
    "print(\"Composite Simpson Approximation (see code above):\", \n",
    "      eval_composite_rule(\"simpson\", \"f_prob_1\", a, b, n))\n",
    "\n",
    "print(\"SciPy.Integrate.trapz Approximation:\\t\\t \", \n",
    "      integrate.trapz(y, x))\n",
    "\n",
    "print(\"SciPy.Integrate.Quad(integration, abs error):\\t\", \n",
    "      integrate.quad(lambda x: eval(\"f_prob_1({})\".format(x)), a, b))"
   ]
  },
  {
   "cell_type": "markdown",
   "metadata": {},
   "source": [
    "### b) Using the Composite Simpson rule;\n",
    "\n",
    "#### Similar to part a, we can use the equations:\n",
    "$$\n",
    "\\begin{align*}\n",
    "c_m\\ f^{(d+1)}(\\eta)\\ (\\frac{b-a}{m-1})^{d+2}\\ (\\frac{1}{n^{d+1}}) < \\epsilon \\\\\n",
    "n > \\sqrt[\\leftroot{-2}\\uproot{2}{d+1}]{c_m\\ f^{(d+1)}(\\eta)\\ (\\frac{b-a}{m-1})^{d+2}\\ \\frac{1}{\\epsilon}}\\\\\n",
    "\\end{align*}\n",
    "$$\n",
    "#### Plugging in $ m = 3,\\; d = 3,\\; a = 0, \\; b = 2,\\; c_m = \\frac{1}{90},\\; f^{(d+1)}(\\eta) = \\frac{3}{128},$ and $\\; \\epsilon = 10^{-5} $ we get:\n",
    "$$\n",
    "\\begin{equation}\n",
    "n > \\sqrt[\\leftroot{-2}\\uproot{2}{d+1}]{c_m\\ f^{(d+1)}(\\eta)\\ (\\frac{b-a}{m-1})^{d+2}\\ \\frac{1}{\\epsilon}}\\\\\n",
    "n > \\sqrt[\\leftroot{-2}\\uproot{2}{3+1}]{(\\frac{1}{90})\\ (\\frac{3}{128})\\ (\\frac{2-0}{3-1})^{3+2}\\ (\\frac{1}{10^{-5}})}\\\\\n",
    "n > 2.259 \\\\\n",
    "\\end{equation}\n",
    "$$\n",
    "#### The Simpson One-Third Rule requires at least 3 intervals to acheive an approximation to within $ 10^{-5}$."
   ]
  },
  {
   "cell_type": "code",
   "execution_count": 49,
   "metadata": {},
   "outputs": [
    {
     "name": "stdout",
     "output_type": "stream",
     "text": [
      "Composite Simpson Approximation (see code above): 0.4054663745840216\n",
      "SciPy.Integrate.simps Approximation:\t\t  0.405919312169\n",
      "SciPy.Integrate.Quad(integration, abs error):\t (0.4054651081081644, 4.501566987038123e-15)\n"
     ]
    }
   ],
   "source": [
    "a = 0.0\n",
    "b = 2.0\n",
    "n = 3\n",
    "x = np.linspace(a, b, num=n+1)\n",
    "y = f_prob_1(x)\n",
    "\n",
    "print(\"Composite Simpson Approximation (see code above):\", \n",
    "      eval_composite_rule(\"simpson\", \"f_prob_1\", a, b, n))\n",
    "\n",
    "print(\"SciPy.Integrate.simps Approximation:\\t\\t \", \n",
    "      integrate.simps(y, x))\n",
    "\n",
    "print(\"SciPy.Integrate.Quad(integration, abs error):\\t\", \n",
    "      integrate.quad(lambda x: eval(\"f_prob_1({})\".format(x)), a, b))"
   ]
  },
  {
   "cell_type": "markdown",
   "metadata": {},
   "source": [
    "### c) Using the Composite Gaussian quadrature rule.\n",
    "\n",
    "#### For this question, the exact meaning of the Composite Gaussian Quadrature is a bit unclear but was interpreted as trying to find the number of intervals where the Gaussian Quadrature with a fixed number of points is applied in each interval. The Gauss-Legendre Quadrature utilizing two points is used here since the number of points is neither specified nor the parameter in question.\n",
    "#### Given the error formula for the non-composite Guass Quadrature:\n",
    "$$\n",
    "\\left| \\int_{a}^{b} f(x)dx - Q_{GL(m)} \\right| \\leq f^{(2m)}(\\eta)\\ \\frac{(b-a)^{2m+1}\\ (m!)^{4}}{(2m+1)\\ [(2m)!]^{3}}   \\\\\n",
    "$$\n",
    "#### we can see that the only portion that actually depends on the length of the interval, the main consideration when applying composition to a quadrature rule, is the $ (b-a)^{2m+1} $, which we can replace with $ (\\frac{b-a}{n})^{2m+1} $ to account for the reduction of the length of the interval into $ n $ subintervals. Additionally, we can replace $ m $ with $ 2 $ and multiply the entire expression by $ n $ to account for the sum of the errors of the $ n $ intervals. After these modifications, we get:"
   ]
  },
  {
   "cell_type": "markdown",
   "metadata": {},
   "source": [
    "$$\n",
    "\\left| \\int_{a}^{b} f(x)dx - Q_{GL(2)} \\right| \\leq\\ f^{(4)}(\\eta)\\ \\frac{(b-a)^{5}\\ (2!)^{4}}{(5)\\ [(4)!]^{3}}\\ \\frac{n}{n^{5}}  < \\epsilon \\\\\n",
    "n > \\sqrt[\\leftroot{0}\\uproot{0}{4}]{f^{(4)}(\\eta)\\ \\frac{(b-a)^{5}\\ (2!)^{4}}{\\epsilon\\ (5)\\ [(4)!]^{3}}}\\\\\n",
    "$$\n",
    "#### Plugging in $ a = 0, \\; b = 2,\\; f^{4}(\\eta) = \\frac{3}{128},$ and $\\; \\epsilon = 10^{-5} $ we get:\n",
    "$$\n",
    "n > \\sqrt[\\leftroot{0}\\uproot{0}{4}]{\\frac{3}{128}\\ \\frac{(2-0)^{5}\\ (2)^{4}}{10^{-5}\\ (5)\\ [24]^{3}}}\\\\\n",
    "n>2.053\n",
    "$$\n",
    "#### The Gauss_Legendre quadrature requires at least 3 intervals to acheive an approximation to within $ 10^{-5}$."
   ]
  },
  {
   "cell_type": "code",
   "execution_count": 51,
   "metadata": {},
   "outputs": [
    {
     "name": "stdout",
     "output_type": "stream",
     "text": [
      "Composite Gauss Quadrature (see code above):\t  0.42549727944947513\n",
      "Composite SciPy Gauss (fixed_quad):\t\t  0.405234208293\n",
      "SciPy.quad (integration, abs error):\t\t (0.4054651081081644, 4.501566987038123e-15)\n"
     ]
    }
   ],
   "source": [
    "print(\"Composite Gauss Quadrature (see code above):\\t \", \n",
    "      eval_composite_rule(\"gauss\", \"f_prob_1\", 0, 2, 5))\n",
    "\n",
    "a = 0\n",
    "b = 2\n",
    "n = 5\n",
    "points = [a]\n",
    "step = (b-a)/n\n",
    "for i in range(n):\n",
    "    points.append(points[-1]+step)\n",
    "print(\"Composite SciPy Gauss (fixed_quad):\\t\\t \", \n",
    "      sum([item[0] for item in [integrate.fixed_quad(lambda x: eval(\"f_prob_1({})\".format(x)), \n",
    "                                points[i], points[i+1], n = 1) for i in range(n)]]))\n",
    "\n",
    "print(\"SciPy.quad (integration, abs error):\\t\\t\", \n",
    "      integrate.quad(lambda x: eval(\"f_prob_1({})\".format(x)), 0, 2))"
   ]
  },
  {
   "cell_type": "markdown",
   "metadata": {},
   "source": [
    "## Problem 2:\n",
    "### Plot $ f(x) = \\sin(1/x) $ and $ g(x) = \\cos(1/x) $ on $ [0.1,2] $. Use Adaptive quadrature to approximate the integrals\n",
    "$$\n",
    "\\int_{0.1}^{2} f(x)\\ dx \\quad \\textrm{and} \\quad \\int_{0.1}^{2} g(x)\\ dx\n",
    "$$\n",
    "### to within $ 10^{-3} $. Find the number of subintervals used for each function. Are they similar? Explain."
   ]
  },
  {
   "cell_type": "code",
   "execution_count": 23,
   "metadata": {},
   "outputs": [
    {
     "data": {
      "image/png": "[encoded data removed]",
      "text/plain": [
       "<Figure size 1152x288 with 2 Axes>"
      ]
     },
     "metadata": {},
     "output_type": "display_data"
    }
   ],
   "source": [
    "import matplotlib.pyplot as plt\n",
    "\n",
    "x = np.arange(0.1, 2, 0.01)\n",
    "sin_vals = np.sin(1/x)\n",
    "cos_vals = np.cos(1/x)\n",
    "\n",
    "fig, ax = plt.subplots(ncols = 2, sharex = True, figsize = (16,4))\n",
    "\n",
    "ax[0].plot(x, sin_vals)\n",
    "ax[0].set_title(\"sin(1/x)\")\n",
    "ax[1].plot(x, cos_vals)\n",
    "ax[1].set_title(\"cos(1/x)\")\n",
    "\n",
    "plt.show()"
   ]
  },
  {
   "cell_type": "code",
   "execution_count": 44,
   "metadata": {
    "scrolled": true
   },
   "outputs": [
    {
     "name": "stdout",
     "output_type": "stream",
     "text": [
      "Cos approximation 0.80946401 with error 0.0000000000000 using 1 intervals using Scipy.integrate.quad\n",
      "Sin approximation 1.41115100 with error 0.0000000000000 using 1 intervals using Scipy.integrate.quad\n"
     ]
    }
   ],
   "source": [
    "from scipy import integrate\n",
    "cos_approx, cos_err, cos_info = integrate.quad(lambda x: np.cos(x), 0.1, 2, full_output=True, epsabs=1e-3)\n",
    "sin_approx, sin_err, sin_info = integrate.quad(lambda x: np.sin(x), 0.1, 2, full_output=True, epsabs=1e-3)\n",
    "\n",
    "print(\"Cos approximation {} with error {} using {} intervals using {}\"\n",
    "      .format(\"%.8f\" % cos_approx,\"%.13f\" % cos_err, cos_info[\"last\"],\"Scipy.integrate.quad\"))\n",
    "print(\"Sin approximation {} with error {} using {} intervals using {}\"\n",
    "      .format(\"%.8f\" % sin_approx,\"%.13f\" % sin_err, sin_info[\"last\"],\"Scipy.integrate.quad\"))"
   ]
  },
  {
   "cell_type": "markdown",
   "metadata": {},
   "source": [
    "#### Using Scipy.integrate.quad, which implements an adaptive quadrature and allows access to the number of sub intervals created during the calculation fo the quadrature, I approximated the integral of $ \\cos(1/x) and \\sin(1/x) $. To my surprise, the two approximations resulted in a very minimal error using a single interval for each function. This may just be the effectiveness of the Fortran Quadpack method used and, unfortunately, I was not able to control the degree or function used for the quadrature using Scipy.integrate.quad."
   ]
  },
  {
   "cell_type": "markdown",
   "metadata": {},
   "source": [
    "## Problem 3:\n",
    "### Determine the coefficients a, b, c, d that will determine a quadrature formula\n",
    "$$\n",
    "\\int_{-1}^{1} f(x)\\ dx = af(-1) + bf(1) + cf'(-1) + df'(1)\\\\\n",
    "$$\n",
    "### that is exact for all polynomials of degree less than or equal to 3."
   ]
  },
  {
   "cell_type": "markdown",
   "metadata": {},
   "source": [
    "#### By substituting $ 1, x, x^2, x^3 $ for $ f(x) $ and solving the resulting system of equations for the variables $ a, b, c, d $, we should be able to find the correct values for this quadrature formula.\n",
    "$$\n",
    "\\int_{-1}^{1} f(x)\\ dx = af(-1) + bf(1) + cf'(-1) + df'(1)\\\\\n",
    "\\int_{-1}^{1} 1\\ dx = 2 = a(1) + b(1) + c(0) + d(0)\\\\\n",
    "\\int_{-1}^{1} x\\ dx = 0 = a(-1) + b(1) + c(1) + d(1)\\\\\n",
    "\\int_{-1}^{1} x^2\\ dx = 2/3 = a(1) + b(1) + c(-2) + d(2)\\\\\n",
    "\\int_{-1}^{1} x^3\\ dx = 0 = a(-1) + b(1) + c(3) + d(3)\\\\\n",
    "$$"
   ]
  },
  {
   "cell_type": "markdown",
   "metadata": {},
   "source": [
    "#### We can express this system of equations in matrix form\n",
    "$\n",
    "\\begin{bmatrix}\n",
    "    1 & 1 & 0 & 0 \\\\\n",
    "    -1 & 1 & 1 & 1 \\\\\n",
    "    1 & 1 & -2 & 2 \\\\\n",
    "    -1 & 1 & 3 & 3 \\\\\n",
    "\\end{bmatrix}$$\n",
    "\\begin{bmatrix}\n",
    "    a \\\\\n",
    "    b \\\\\n",
    "    c \\\\\n",
    "    d \\\\\n",
    "\\end{bmatrix}$\n",
    "=$\n",
    "\\begin{bmatrix}\n",
    "    2 \\\\\n",
    "    0 \\\\\n",
    "    2/3 \\\\\n",
    "    0 \\\\\n",
    "\\end{bmatrix}\n",
    "$\n",
    "#### and solve for the coefficients."
   ]
  },
  {
   "cell_type": "markdown",
   "metadata": {},
   "source": [
    "$\n",
    "\\begin{bmatrix}\n",
    "    a \\\\\n",
    "    b \\\\\n",
    "    c \\\\\n",
    "    d \\\\\n",
    "\\end{bmatrix}$\n",
    "=$\n",
    "\\begin{bmatrix}\n",
    "    1 & 1 & 0 & 0 \\\\\n",
    "    -1 & 1 & 1 & 1 \\\\\n",
    "    1 & 1 & -2 & 2 \\\\\n",
    "    -1 & 1 & 3 & 3 \\\\\n",
    "\\end{bmatrix} ^ {-1}$$\n",
    "\\begin{bmatrix}\n",
    "    2 \\\\\n",
    "    0 \\\\\n",
    "    2/3 \\\\\n",
    "    0 \\\\\n",
    "\\end{bmatrix}$\n",
    "=$\n",
    "\\begin{bmatrix}\n",
    "    1 \\\\\n",
    "    1 \\\\\n",
    "    1/3 \\\\\n",
    "    -1/3 \\\\\n",
    "\\end{bmatrix} \n",
    "$\n",
    "\n",
    "#### The resulting quadrature formula is:\n",
    "$$\n",
    "\\int_{-1}^{1} f(x) dx = (1) f(-1) + (1) f(1) + (1/3) f'(-1) - (1/3) f'(1) \\\\\n",
    "$$\n",
    "#### and the coefficients are:\n",
    "$$\n",
    "a = 1 \\\\\n",
    "b = 1 \\\\\n",
    "c = 1/3 \\\\\n",
    "d = -1/3 \\\\\n",
    "$$"
   ]
  },
  {
   "cell_type": "markdown",
   "metadata": {},
   "source": [
    "## Problem 4:\n",
    "### Let $ Q_n $ be the equally spaced composite trapazoidal rule:\n",
    "$$\n",
    "Q_n\\ =\\ h\\ (\\  \\frac{1}{2}f(x_1)\\ +\\ f(x_2)\\ + \\ \\dots\\ +\\ f(x_{n-1})\\ + \\frac{1}{2}\\ f(x_n)\\ )\\\\\n",
    "h=(\\frac{b-a}{n-1}) \\\\\n",
    "n \\geq 2\n",
    "$$\n",
    "### where $ x\\ =\\ linspace(a,b,c) $ and we assume that $ n\\ \\leq\\ 2 $. Assume that there is a onstant $ C $ (independent of $n$), such that\n",
    "$$ \n",
    "I\\ =\\ \\int_{a}^{b} f(x)dx\\ =\\ Q_n + Ch^2\n",
    "$$"
   ]
  },
  {
   "cell_type": "markdown",
   "metadata": {},
   "source": [
    "### a) Give an expression for $ \\left| I - Q_{2n} \\right| $ in terms of $\\left| Q_{2n} - Q_{n} \\right|$."
   ]
  },
  {
   "cell_type": "markdown",
   "metadata": {},
   "source": [
    "#### Firstly, we determine the value of $ \\left| I - Q_{2n} \\right| $ as follows:\n",
    "$$\n",
    "\\left| I - Q_{2n} \\right| = \\left| Ch^2 \\right| = \\left| C(\\frac{b-a}{2n-1})^2 \\right| \\\\\n",
    "$$\n",
    "#### Next, we can determine the value of $\\left| Q_{2n} - Q_{n} \\right|$ as follows:\n",
    "$$\n",
    "I = Q_{2n} + C(\\frac{b-a}{2n-1})^2 = Q_{n} + C(\\frac{b-a}{n-1})^2 \\\\\n",
    "\\begin{split}\n",
    "\\left| Q_{2n} - Q_{n} \\right| & = \\left| C(\\frac{b-a}{n-1})^2 - C(\\frac{b-a}{2n-1})^2 \\right| \\\\\n",
    "& = \\left| C(b-a)^2 ((\\frac{1}{n-1})^2 - (\\frac{1}{2n-1})^2) \\right| \\\\\n",
    "& = \\left| C(b-a)^2 (\\frac{n(3n-2)}{(n-1)^2(2n-1)^2}) \\right| \\\\\n",
    "\\end{split}\n",
    "$$\n",
    "#### Using the values of $ \\left| I - Q_{2n} \\right| $ and $\\left| Q_{2n} - Q_{n} \\right|$, we can determine\n",
    "$$\n",
    "\\left| I - Q_{2n} \\right| = \\left| Q_{2n} - Q_{n} \\right| \\frac{(n-1)^2}{n(3n-2)}\n",
    "$$"
   ]
  },
  {
   "cell_type": "markdown",
   "metadata": {},
   "source": [
    "### b) Write an efficient script that computes $ Q_{2^{k+1}} $, where $ k $ is the smallest positive integer so that $ \\left| I - Q_{2^{k+1}} \\right| $ is smaller than some given positive $ \\textrm{tol} $. You may assume that such a $ k $ exists. You may assume that the integrand function is available in $ \\textrm{f.m} $ and that it accepts vector arguements."
   ]
  },
  {
   "cell_type": "markdown",
   "metadata": {},
   "source": [
    "#### General procedure:\n",
    "\n",
    "* k := 2\n",
    "* Q_last := Q_k\n",
    "* do:\n",
    "    * compute Q_{2k}\n",
    "    * calculate the error |I - Q_{2k}| using |Q_{2k} - Q_{k}| as in part (a)\n",
    "    * if error < tol:\n",
    "        * return Q_{2k}, 2k, error\n",
    "    * else:\n",
    "        * Q_last := Q_{2k}\n",
    "        * k := k*2\n",
    "* while(True)"
   ]
  },
  {
   "cell_type": "code",
   "execution_count": 45,
   "metadata": {},
   "outputs": [
    {
     "name": "stdout",
     "output_type": "stream",
     "text": [
      "Approximation of integral of 1/(x+4) from 0 to 2 (from prob 1) using Q_n\n",
      " (Q_n, n, |I - Q_n|):\n",
      " (0.40547715143721835, 32, 9.6956921275648262e-06)\n"
     ]
    }
   ],
   "source": [
    "# See start of assignment for code for composite evaluation\n",
    "# and for the evaluation of the trapazoid rule\n",
    "\n",
    "import numpy as np\n",
    "\n",
    "def q_given_tol(func, a, b, tol):\n",
    "    k = 2;\n",
    "    q_last = eval_composite_rule(\"trapazoid\", func, a, b, k-1)\n",
    "    \n",
    "    k*=2\n",
    "    q_current = eval_composite_rule(\"trapazoid\", func, a, b, k-1)\n",
    "    error = np.abs(q_current - q_last) * (((n-1)**2)/(n*((3*n)-2)))\n",
    "    \n",
    "    while error >= tol:\n",
    "        q_last = q_current\n",
    "        k*=2\n",
    "        q_current = eval_composite_rule(\"trapazoid\", func, a, b, k-1)\n",
    "        error = np.abs(q_current - q_last) * (((n-1)**2)/(n*((3*n)-2)))\n",
    "        \n",
    "    return q_current, k, error\n",
    "\n",
    "print(\"Approximation of integral of 1/(x+4) from 0 to 2 (from prob 1) using Q_n\")\n",
    "print(\" (Q_n, n, |I - Q_n|):\\n\", q_given_tol(\"f_prob_1\", 0, 2, 1e-5))"
   ]
  },
  {
   "cell_type": "code",
   "execution_count": null,
   "metadata": {},
   "outputs": [],
   "source": []
  }
 ],
 "metadata": {
  "kernelspec": {
   "display_name": "Python 3",
   "language": "python",
   "name": "python3"
  },
  "language_info": {
   "codemirror_mode": {
    "name": "ipython",
    "version": 3
   },
   "file_extension": ".py",
   "mimetype": "text/x-python",
   "name": "python",
   "nbconvert_exporter": "python",
   "pygments_lexer": "ipython3",
   "version": "3.6.4"
  }
 },
 "nbformat": 4,
 "nbformat_minor": 2
}
