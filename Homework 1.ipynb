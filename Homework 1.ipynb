{
 "cells": [
  {
   "cell_type": "markdown",
   "metadata": {},
   "source": [
    "<center>\n",
    "<h1>CSC 301 Spring 2018: Homework 1</h1>\n",
    "<h2>Pooneet Thaper</h2>\n",
    "<h2>Professor Irina Gladkova</h2>\n",
    "</center>"
   ]
  },
  {
   "cell_type": "markdown",
   "metadata": {},
   "source": [
    "## Problem 1:\n",
    "### The function $ f_1(x,\\delta) = \\cos(x + \\delta) - \\cos(x) $ can be transformed into another form, $ f_2(x,\\delta) $, using the trigonometric function \n",
    "### $$\\begin{equation}\\cos(\\phi) - \\cos(\\varphi) = -2 \\sin(\\frac{\\phi + \\varphi}{2})\\sin(\\frac{\\phi - \\varphi}{2}).\\end{equation}$$\n",
    "### Thus $ f_1 $ and $ f_2 $ have the same values, in exact arithmetic, for any given arguement values $ x $ and $ \\delta $."
   ]
  },
  {
   "cell_type": "markdown",
   "metadata": {},
   "source": [
    "### a) Derive $f_2(x,\\delta)$.\n",
    "\n",
    "$$\n",
    "f_1(x,\\delta) = \\cos(x + \\delta) - \\cos(x) \\\\\n",
    "\\cos(\\phi) - \\cos(\\varphi) = -2 \\sin(\\frac{\\phi + \\varphi}{2})\\sin(\\frac{\\phi - \\varphi}{2}) \\\\\n",
    "f_2(x,\\delta) = -2 \\sin(\\frac{(x+\\delta) + x}{2})\\sin(\\frac{(x+\\delta)-(x)}{2}) \\\\\n",
    "= -2 \\sin(\\frac{2x+\\delta}{2})\\sin(\\frac{\\delta}{2})\n",
    "$$"
   ]
  },
  {
   "cell_type": "markdown",
   "metadata": {},
   "source": [
    "### b) Write a script which will calculate $ g_1(x,\\delta) = f_1(x,\\delta)/\\delta + \\sin(x) $  and $ g_2(x,\\delta) = f_2(x,\\delta)/\\delta + \\sin(x) $ for $ x = 3 $ and $ \\delta = 1\\mathrm{e}{-11} $."
   ]
  },
  {
   "cell_type": "code",
   "execution_count": 15,
   "metadata": {},
   "outputs": [
    {
     "name": "stdout",
     "output_type": "stream",
     "text": [
      "x+d:  3.00000000001\n",
      "cos(x+d):  -0.9899924966018566\n",
      "cos(x):  -0.9899924966004454\n",
      "cos(x+d)-cos(x):  -1.4112044866010365e-12\n",
      "f1(x,delta):  -1.4112044866010365e-12\n",
      "f1(x,delta)/delta -0.14112044866010365\n",
      "sin(x) 0.1411200080598672\n",
      "f1(x,delta)/delta + sin(x) -4.4060023643432977e-07\n",
      "g1(3,1e-11):  -4.4060023643432977e-07\n",
      "\n",
      "\n",
      "2*x:  6\n",
      "(2*x)+d 6.00000000001\n",
      "((2*x) + d)/2:  3.000000000005\n",
      "sin(((2*x) + d)/2):  0.14112000805491726\n",
      "delta/2:  5e-12\n",
      "sin(delta/2):  5e-12\n",
      "sin(((2*x) + delta)/2) * sin(delta/2):  7.056000402745863e-13\n",
      "-2 * sin(((2*x) + delta)/2) * sin(delta/2) -1.4112000805491726e-12\n",
      "f2(x,delta):  -1.4112000805491726e-12\n",
      "f2(x,delta)/delta -0.14112000805491726\n",
      "sin(x) 0.1411200080598672\n",
      "f1(x,delta)/delta + sin(x) 4.949957110866876e-12\n",
      "g2(3,1e-11):  4.949957110866876e-12\n"
     ]
    }
   ],
   "source": [
    "from math import sin, cos\n",
    "\n",
    "def f1(x,delta, print_all = False):\n",
    "    if print_all:\n",
    "        a = x+delta\n",
    "        b = cos(a)\n",
    "        c = cos(x)\n",
    "        d = b-c\n",
    "        print('x+d: ', a)\n",
    "        print('cos(x+d): ', b)\n",
    "        print('cos(x): ', c)\n",
    "        print('cos(x+d)-cos(x): ', d)\n",
    "        return d\n",
    "    return cos(x+delta) - cos(x)\n",
    "\n",
    "def f2(x,delta, print_all = False):\n",
    "    if print_all:\n",
    "        a = 2*x\n",
    "        b = a+delta\n",
    "        c = b/2\n",
    "        d = sin(c)\n",
    "        e = delta/2\n",
    "        f = sin(e)\n",
    "        g = d*f\n",
    "        h = -2*g\n",
    "        print('2*x: ', a)\n",
    "        print('(2*x)+d', b)\n",
    "        print('((2*x) + d)/2: ', c)\n",
    "        print('sin(((2*x) + d)/2): ', d)\n",
    "        print('delta/2: ', e)\n",
    "        print('sin(delta/2): ', f)\n",
    "        print('sin(((2*x) + delta)/2) * sin(delta/2): ', g)\n",
    "        print('-2 * sin(((2*x) + delta)/2) * sin(delta/2)', h)\n",
    "        return h\n",
    "    return -2 * sin(((2*x) + delta)/2) * sin(delta/2)\n",
    "\n",
    "def g1(x,delta,print_all = False):\n",
    "    if print_all:\n",
    "        a = f1(x,delta, print_all)\n",
    "        b = a/delta\n",
    "        c = sin(x)\n",
    "        d = b+c\n",
    "        print('f1(x,delta): ', a)\n",
    "        print('f1(x,delta)/delta', b)\n",
    "        print('sin(x)', c)\n",
    "        print('f1(x,delta)/delta + sin(x)', d)\n",
    "        return(d)\n",
    "    return f1(x,delta, print_all)/delta + sin(x)\n",
    "\n",
    "def g2(x,delta,print_all = False):\n",
    "    if print_all:\n",
    "        a = f2(x,delta, print_all)\n",
    "        b = a/delta\n",
    "        c = sin(x)\n",
    "        d = b+c\n",
    "        print('f2(x,delta): ', a)\n",
    "        print('f2(x,delta)/delta', b)\n",
    "        print('sin(x)', c)\n",
    "        print('f1(x,delta)/delta + sin(x)', d)\n",
    "        return(d)\n",
    "    return f2(x,delta, print_all)/delta + sin(x)\n",
    "\n",
    "# Included a print_all option to print each step of the process to the final value\n",
    "# (both formulas produce the same value regardless of the use of print_all)\n",
    "\n",
    "print(\"g1(3,1e-11): \",g1(3,1e-11, True)) # -4.4060023643432977e-07\n",
    "print('\\n')\n",
    "print(\"g2(3,1e-11): \",g2(3,1e-11, True)) #  4.949957110866876e-12\n"
   ]
  },
  {
   "cell_type": "markdown",
   "metadata": {},
   "source": [
    "### c) Explain the difference in the results of the two calculations.\n",
    "\n",
    "The two formulas, g1(x,delta) and g2(x,delta), produced results around zero but both were off a small amount. "
   ]
  },
  {
   "cell_type": "markdown",
   "metadata": {},
   "source": [
    "## Problem 2:\n",
    "### The function $ f_1(x_0,h) = \\sin(x_0 + h) - \\sin(x_0) $ can be transformed into another form, $ f_2(x_0,h) $ using the trigonometric formula\n",
    "### $$\\begin{equation}\\sin(\\phi) - \\sin(\\varphi) = 2 \\cos(\\frac{\\phi + \\varphi}{2})\\sin(\\frac{\\phi - \\varphi}{2}).\\end{equation}$$\n",
    "### Thus $ f_1 $ and $ f_2 $ have the same values, in exact arithmetic, for any given arguement values $ x_0 $ and $ h $."
   ]
  },
  {
   "cell_type": "markdown",
   "metadata": {},
   "source": [
    "### a) Derive $f_2(x_0,h)$.\n",
    "\n",
    "$$\n",
    "f_1(x_0,h) = \\sin(x_0 + h) - \\sin(x_0) \\\\\n",
    "\\sin(\\phi) - \\sin(\\varphi) = 2 \\cos(\\frac{\\phi + \\varphi}{2})\\sin(\\frac{\\phi - \\varphi}{2}) \\\\\n",
    "f2(x_0, h) = 2 \\cos(\\frac{(x_0 + h) + x_0}{2}) \\sin(\\frac{(x_0 + h) - x_0}{2}) \\\\\n",
    "= 2 \\cos(\\frac{2*x_0 + h}{2}) \\sin(\\frac{h}{2})\n",
    "$$"
   ]
  },
  {
   "cell_type": "markdown",
   "metadata": {},
   "source": [
    "### b) Suggest a formula that avoids cancellation errors for computing the approximation $ (f(x_0+h)-f(x_0))/h $ to the derivative of $f(x) = \\sin(x) $ at $ x = x_0 $. Write a program that implements your formula and computes an approximation of $ f'(1.2) $, for h = $ 1\\mathrm{e}{-20} $, $ 1\\mathrm{e}{-19} $, ... , $ 1 $.\n",
    "\n",
    "$$\n",
    "\\frac{d}{dx} \\sin(x)|_{x=x_0} \\approx \\lim_{h\\to0} \\frac{\\sin(x_0 + h) - \\sin(x_0)}{h} \\\\\n",
    "= \\lim_{h\\to0} \\frac{(\\sin(x_0)\\cos(h)+\\sin(h)\\cos(x_0)) - \\sin(x_0)}{h} \\\\\n",
    "= \\lim_{h\\to0} \\frac{\\sin(x_0)(\\cos(h)-1) + \\sin(h)\\cos(x_0)}{h} \\\\\n",
    "$$\n",
    "\n",
    "#### Looking at the approximation $ (sin(x_0+h)-sin(x_0))/h $, there could be an issue subtracting the results of the the two sine calculations in the numerator. These two results would, assuming h is very small, be nearly equal while being truncated to fit into the available space in each floating point value. As a result of this truncation, their difference would be significantly off from the difference they would have gotten in exact arithmetic. That error would then be magnified by the division by h. The suggested formula above avoids this loss of significance issue by removing that subtraction using a trigonometric identity."
   ]
  },
  {
   "cell_type": "code",
   "execution_count": 39,
   "metadata": {},
   "outputs": [
    {
     "name": "stdout",
     "output_type": "stream",
     "text": [
      "+---------+------------------------+----------------------+--------------------+\n",
      "| h value |    Original approx     |   Suggested Approx   |    math.cos(x)     |\n",
      "+---------+------------------------+----------------------+--------------------+\n",
      "|    10   | -0.0047138643184091115 | -0.19112168151185435 | 0.3623577544766736 |\n",
      "|    1    |   1.7405354897868164   | -0.12354268214763608 | 0.3623577544766736 |\n",
      "|   0.1   |   18.955972713844194   |  0.3151909944996657  | 0.3623577544766736 |\n",
      "|   0.01  |   186.7655087520612    | 0.35769155861595703  | 0.3623577544766736 |\n",
      "|  0.001  |   1864.440063609032    |  0.3618916745795762  | 0.3623577544766736 |\n",
      "|  0.0001 |   18641.144030496445   |  0.3623111519187289  | 0.3623577544766736 |\n",
      "|  1e-05  |   186408.17954653953   |  0.3623530942748189  | 0.3623577544766736 |\n",
      "|  1e-06  |   1864078.5342917412   | 0.36235728841564085  | 0.3623577544766736 |\n",
      "|  1e-07  |   18640782.081702236   | 0.36235770791196664  | 0.3623577544766736 |\n",
      "|  1e-08  |    186407817.555803    |  0.3623577544766736  | 0.3623577544766736 |\n",
      "|  1e-09  |   1864078172.2968102   |  0.3623577544766736  | 0.3623577544766736 |\n",
      "|  1e-10  |   18640781719.706882   |  0.3623577544766736  | 0.3623577544766736 |\n",
      "|  1e-11  |   186407817193.80765   |  0.3623577544766736  | 0.3623577544766736 |\n",
      "|  1e-12  |   1864078171934.815    |  0.3623577544766736  | 0.3623577544766736 |\n",
      "|  1e-13  |   18640781719344.887   |  0.3623577544766736  | 0.3623577544766736 |\n",
      "|  1e-14  |   186407817193445.62   |  0.3623577544766736  | 0.3623577544766736 |\n",
      "|  1e-15  |   1864078171934453.0   |  0.3623577544766736  | 0.3623577544766736 |\n",
      "|  1e-16  | 1.864078171934453e+16  |  0.3623577544766736  | 0.3623577544766736 |\n",
      "|  1e-17  | 1.8640781719344525e+17 | 0.36235775447667357  | 0.3623577544766736 |\n",
      "|  1e-18  | 1.8640781719344525e+18 |  0.3623577544766736  | 0.3623577544766736 |\n",
      "|  1e-19  | 1.8640781719344525e+19 |  0.3623577544766736  | 0.3623577544766736 |\n",
      "|  1e-20  | 1.8640781719344526e+20 |  0.3623577544766736  | 0.3623577544766736 |\n",
      "+---------+------------------------+----------------------+--------------------+\n"
     ]
    }
   ],
   "source": [
    "from math import sin, cos\n",
    "from prettytable import PrettyTable\n",
    "\n",
    "# Define original and suggested formula\n",
    "def sin_deriv_approx(x,h):\n",
    "    return (sin(x+h) + sin(x))/h\n",
    "\n",
    "def sin_deriv_approx_2(x,h):\n",
    "    return (sin(x)*(cos(h)-1)+sin(h)*cos(x))/h\n",
    "\n",
    "# Choose values for h and value for x_0\n",
    "h_values = [10**(-i) for i in range(-1,21)]\n",
    "x_0 = 1.2\n",
    "\n",
    "# Calculate the derivative using the original approximation, the suggested approximation, and the cosine function \n",
    "# (for comparison) for each value of h chosen\n",
    "results = [(h, sin_deriv_approx(x_0,h), sin_deriv_approx_2(x_0,h), cos(x_0)) for h in h_values]\n",
    "\n",
    "# Put the results into a table\n",
    "table = PrettyTable([\"h value\", \"Original approx\", \"Suggested Approx\", \"math.cos(x)\"])\n",
    "for result in results:\n",
    "    table.add_row(result)\n",
    "print(table)"
   ]
  },
  {
   "cell_type": "markdown",
   "metadata": {},
   "source": [
    "## Problem 3:\n",
    "### If you generate a row vector x containing all the floating point numbers in a give system, another row vector $ y $ of the same dimension as x comtaining $ 0 $'s, and then plot the discrete values of $ y $ vs $ x $ using the symbol '+', you'll get a picture of sorts of the floating point number system."
   ]
  },
  {
   "cell_type": "markdown",
   "metadata": {},
   "source": [
    "### Produce such a plot for the sustem $ (\\beta, t, L, U) = (2,3,-2,3) $. (Do not assume the IEEE special conventions.) What do you observe? Also, calculate the rounding unit for this modest floating point system."
   ]
  },
  {
   "cell_type": "markdown",
   "metadata": {},
   "source": [
    "## Problem 4:\n",
    "### In the statistical treatment of data one often needs to comput the quantities\n",
    "### $$ \\begin{equation} \\overline(x) = \\frac{1}{n} "
   ]
  },
  {
   "cell_type": "code",
   "execution_count": null,
   "metadata": {
    "collapsed": true
   },
   "outputs": [],
   "source": []
  }
 ],
 "metadata": {
  "kernelspec": {
   "display_name": "Python 3",
   "language": "python",
   "name": "python3"
  },
  "language_info": {
   "codemirror_mode": {
    "name": "ipython",
    "version": 3
   },
   "file_extension": ".py",
   "mimetype": "text/x-python",
   "name": "python",
   "nbconvert_exporter": "python",
   "pygments_lexer": "ipython3",
   "version": "3.6.3"
  }
 },
 "nbformat": 4,
 "nbformat_minor": 2
}
