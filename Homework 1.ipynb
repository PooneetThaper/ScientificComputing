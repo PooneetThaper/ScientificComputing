{
 "cells": [
  {
   "cell_type": "markdown",
   "metadata": {},
   "source": [
    "<center>\n",
    "<h1>CSC 301 Spring 2018: Homework 1</h1>\n",
    "<h2>Pooneet Thaper</h2>\n",
    "<h2>Professor Irina Gladkova</h2>\n",
    "</center>"
   ]
  },
  {
   "cell_type": "markdown",
   "metadata": {},
   "source": [
    "## Problem 1:\n",
    "### The function $ f_1(x,\\delta) = \\cos(x + \\delta) - \\cos(x) $ can be transformed into another form, $ f_2(x,\\delta) $, using the trigonometric function \n",
    "### $$\\begin{equation}\\cos(\\phi) - \\cos(\\varphi) = -2 \\sin(\\frac{\\phi + \\varphi}{2})\\sin(\\frac{\\phi - \\varphi}{2}).\\end{equation}$$\n",
    "### Thus $ f_1 $ and $ f_2 $ have the same values, in exact arithmetic, for any given arguement values $ x $ and $ \\delta $."
   ]
  },
  {
   "cell_type": "markdown",
   "metadata": {},
   "source": [
    "### a) Derive $f_2(x,\\delta)$.\n",
    "\n",
    "$$\n",
    "f_1(x,\\delta) = \\cos(x + \\delta) - \\cos(x) \\\\\n",
    "\\cos(\\phi) - \\cos(\\varphi) = -2 \\sin(\\frac{\\phi + \\varphi}{2})\\sin(\\frac{\\phi - \\varphi}{2}) \\\\\n",
    "f_2(x,\\delta) = -2 \\sin(\\frac{(x+\\delta) + x}{2})\\sin(\\frac{(x+\\delta)-(x)}{2}) \\\\\n",
    "= -2 \\sin(\\frac{2x+\\delta}{2})\\sin(\\frac{\\delta}{2})\n",
    "$$"
   ]
  },
  {
   "cell_type": "markdown",
   "metadata": {},
   "source": [
    "### b) Write a script which will calculate $ g_1(x,\\delta) = f_1(x,\\delta)/\\delta + \\sin(x) $  and $ g_2(x,\\delta) = f_2(x,\\delta)/\\delta + \\sin(x) $ for $ x = 3 $ and $ \\delta = 1\\mathrm{e}{-11} $."
   ]
  },
  {
   "cell_type": "code",
   "execution_count": 77,
   "metadata": {},
   "outputs": [
    {
     "name": "stdout",
     "output_type": "stream",
     "text": [
      "x+delta:  3.00000000001\n",
      "cos(x+delta):  -0.9899924966018566\n",
      "cos(x):  -0.9899924966004454\n",
      "cos(x+delta)-cos(x):  -1.4112044866010365e-12\n",
      "f1(x,delta):  -1.4112044866010365e-12\n",
      "f1(x,delta)/delta -0.14112044866010365\n",
      "sin(x) 0.1411200080598672\n",
      "f1(x,delta)/delta + sin(x) -4.4060023643432977e-07\n",
      "g1(3,1e-11):  -4.4060023643432977e-07\n",
      "\n",
      "\n",
      "2*x:  6\n",
      "(2*x)+delta 6.00000000001\n",
      "((2*x) + delta)/2:  3.000000000005\n",
      "sin(((2*x) + delta)/2):  0.14112000805491726\n",
      "delta/2:  5e-12\n",
      "sin(delta/2):  5e-12\n",
      "sin(((2*x) + delta)/2) * sin(delta/2):  7.056000402745863e-13\n",
      "-2 * sin(((2*x) + delta)/2) * sin(delta/2) -1.4112000805491726e-12\n",
      "f2(x,delta):  -1.4112000805491726e-12\n",
      "f2(x,delta)/delta -0.14112000805491726\n",
      "sin(x) 0.1411200080598672\n",
      "f1(x,delta)/delta + sin(x) 4.949957110866876e-12\n",
      "g2(3,1e-11):  4.949957110866876e-12\n"
     ]
    }
   ],
   "source": [
    "from math import sin, cos\n",
    "\n",
    "def f1(x,delta, print_all = False):\n",
    "    if print_all:\n",
    "        a = x+delta\n",
    "        b = cos(a)\n",
    "        c = cos(x)\n",
    "        d = b-c\n",
    "        print('x+delta: ', a)\n",
    "        print('cos(x+delta): ', b)\n",
    "        print('cos(x): ', c)\n",
    "        print('cos(x+delta)-cos(x): ', d)\n",
    "        return d\n",
    "    return cos(x+delta) - cos(x)\n",
    "\n",
    "def f2(x,delta, print_all = False):\n",
    "    if print_all:\n",
    "        a = 2*x\n",
    "        b = a+delta\n",
    "        c = b/2\n",
    "        d = sin(c)\n",
    "        e = delta/2\n",
    "        f = sin(e)\n",
    "        g = d*f\n",
    "        h = -2*g\n",
    "        print('2*x: ', a)\n",
    "        print('(2*x)+delta', b)\n",
    "        print('((2*x) + delta)/2: ', c)\n",
    "        print('sin(((2*x) + delta)/2): ', d)\n",
    "        print('delta/2: ', e)\n",
    "        print('sin(delta/2): ', f)\n",
    "        print('sin(((2*x) + delta)/2) * sin(delta/2): ', g)\n",
    "        print('-2 * sin(((2*x) + delta)/2) * sin(delta/2)', h)\n",
    "        return h\n",
    "    return -2 * sin(((2*x) + delta)/2) * sin(delta/2)\n",
    "\n",
    "def g1(x,delta,print_all = False):\n",
    "    if print_all:\n",
    "        a = f1(x,delta, print_all)\n",
    "        b = a/delta\n",
    "        c = sin(x)\n",
    "        d = b+c\n",
    "        print('f1(x,delta): ', a)\n",
    "        print('f1(x,delta)/delta', b)\n",
    "        print('sin(x)', c)\n",
    "        print('f1(x,delta)/delta + sin(x)', d)\n",
    "        return(d)\n",
    "    return f1(x,delta, print_all)/delta + sin(x)\n",
    "\n",
    "def g2(x,delta,print_all = False):\n",
    "    if print_all:\n",
    "        a = f2(x,delta, print_all)\n",
    "        b = a/delta\n",
    "        c = sin(x)\n",
    "        d = b+c\n",
    "        print('f2(x,delta): ', a)\n",
    "        print('f2(x,delta)/delta', b)\n",
    "        print('sin(x)', c)\n",
    "        print('f1(x,delta)/delta + sin(x)', d)\n",
    "        return(d)\n",
    "    return f2(x,delta, print_all)/delta + sin(x)\n",
    "\n",
    "# Included a print_all option to print each step of the process to the final value\n",
    "# (both formulas produce the same value regardless of the use of print_all)\n",
    "\n",
    "print(\"g1(3,1e-11): \",g1(3,1e-11, True)) # -4.4060023643432977e-07\n",
    "print('\\n')\n",
    "print(\"g2(3,1e-11): \",g2(3,1e-11, True)) #  4.949957110866876e-12\n"
   ]
  },
  {
   "cell_type": "markdown",
   "metadata": {},
   "source": [
    "### c) Explain the difference in the results of the two calculations.\n",
    "\n",
    "#### The two formulas, g1(x,delta) and g2(x,delta), similar results but took much different paths to get to them. As a result of the different steps taken for each formula (as shown in the code output), the errors along the way would also have been different and thus the formulas produced different results. The first formula, for example, would likely have some cancellation error when doing the subtraction $\\cos(x+\\delta)-\\cos(x)$ since the two values are so similar. "
   ]
  },
  {
   "cell_type": "markdown",
   "metadata": {},
   "source": [
    "## Problem 2:\n",
    "### The function $ f_1(x_0,h) = \\sin(x_0 + h) - \\sin(x_0) $ can be transformed into another form, $ f_2(x_0,h) $ using the trigonometric formula\n",
    "### $$\\begin{equation}\\sin(\\phi) - \\sin(\\varphi) = 2 \\cos(\\frac{\\phi + \\varphi}{2})\\sin(\\frac{\\phi - \\varphi}{2}).\\end{equation}$$\n",
    "### Thus $ f_1 $ and $ f_2 $ have the same values, in exact arithmetic, for any given arguement values $ x_0 $ and $ h $."
   ]
  },
  {
   "cell_type": "markdown",
   "metadata": {},
   "source": [
    "### a) Derive $f_2(x_0,h)$.\n",
    "\n",
    "$$\n",
    "f_1(x_0,h) = \\sin(x_0 + h) - \\sin(x_0) \\\\\n",
    "\\sin(\\phi) - \\sin(\\varphi) = 2 \\cos(\\frac{\\phi + \\varphi}{2})\\sin(\\frac{\\phi - \\varphi}{2}) \\\\\n",
    "f2(x_0, h) = 2 \\cos(\\frac{(x_0 + h) + x_0}{2}) \\sin(\\frac{(x_0 + h) - x_0}{2}) \\\\\n",
    "= 2 \\cos(\\frac{2*x_0 + h}{2}) \\sin(\\frac{h}{2})\n",
    "$$"
   ]
  },
  {
   "cell_type": "markdown",
   "metadata": {},
   "source": [
    "### b) Suggest a formula that avoids cancellation errors for computing the approximation $ (f(x_0+h)-f(x_0))/h $ to the derivative of $f(x) = \\sin(x) $ at $ x = x_0 $. Write a program that implements your formula and computes an approximation of $ f'(1.2) $, for h = $ 1\\mathrm{e}{-20} $, $ 1\\mathrm{e}{-19} $, ... , $ 1 $.\n",
    "\n",
    "$$\n",
    "\\frac{d}{dx} \\sin(x)|_{x=x_0} \\approx \\lim_{h\\to0} \\frac{\\sin(x_0 + h) - \\sin(x_0)}{h} \\\\\n",
    "= \\lim_{h\\to0} \\frac{(\\sin(x_0)\\cos(h)+\\sin(h)\\cos(x_0)) - \\sin(x_0)}{h} \\\\\n",
    "= \\lim_{h\\to0} \\frac{\\sin(x_0)(\\cos(h)-1) + \\sin(h)\\cos(x_0)}{h} \\\\\n",
    "$$\n",
    "\n",
    "#### Looking at the approximation $ (sin(x_0+h)-sin(x_0))/h $, there could be an issue subtracting the results of the the two sine calculations in the numerator. These two results would, assuming $ h $ is very small, be nearly equal while being truncated to fit into the available space in a floating point value. As a result of this truncation, their difference would be significantly off from the difference they would have gotten in exact arithmetic. That error would then be magnified by the division by the small $ h $. The suggested formula above avoids this issue by removing that subtraction using a trigonometric identity and was able to produce a much better approximation than the original (as shown in the table below)."
   ]
  },
  {
   "cell_type": "code",
   "execution_count": 69,
   "metadata": {},
   "outputs": [
    {
     "name": "stdout",
     "output_type": "stream",
     "text": [
      "Actual derivative (cos(x_0)):  0.3623577544766736\n",
      "+---------+------------------------+---------------------------+----------------------+----------------------------+\n",
      "| h value |    Original approx     | Relative error (original) |   Suggested Approx   | Relative Error (suggested) |\n",
      "+---------+------------------------+---------------------------+----------------------+----------------------------+\n",
      "|    10   | -0.0047138643184091115 |     1.013008868335706     | -0.19112168151185435 |     1.5274391927609696     |\n",
      "|    1    |   1.7405354897868164   |     3.8033620594115405    | -0.12354268214763608 |     1.3409411848410961     |\n",
      "|   0.1   |   18.955972713844194   |     51.312866165154645    |  0.3151909944996657  |    0.13016627737172995     |\n",
      "|   0.01  |   186.7655087520612    |     514.4174471077423     | 0.35769155861595703  |    0.012877317521341948    |\n",
      "|  0.001  |   1864.440063609032    |     5144.3019580102655    |  0.3618916745795762  |   0.0012862423705283445    |\n",
      "|  0.0001 |   18641.144030496445   |     51443.03231391713     |  0.3623111519187289  |   0.00012860924699128283   |\n",
      "|  1e-05  |   186408.17954653953   |     514430.32441240293    |  0.3623530942748189  |   1.2860775841475199e-05   |\n",
      "|  1e-06  |   1864078.5342917412   |     5144303.244251351     | 0.36235728841564085  |   1.2861903105669512e-06   |\n",
      "|  1e-07  |   18640782.081702236   |     51443032.44252625     | 0.36235770791196664  |   1.2850478954539978e-07   |\n",
      "|  1e-08  |    186407817.555803    |     514430324.42526364    |  0.3623577544766736  |            0.0             |\n",
      "|  1e-09  |   1864078172.2968102   |     5144303244.252636     |  0.3623577544766736  |            0.0             |\n",
      "|  1e-10  |   18640781719.706882   |     51443032442.52637     |  0.3623577544766736  |            0.0             |\n",
      "|  1e-11  |   186407817193.80765   |     514430324425.26373    |  0.3623577544766736  |            0.0             |\n",
      "|  1e-12  |   1864078171934.815    |     5144303244252.637     |  0.3623577544766736  |            0.0             |\n",
      "|  1e-13  |   18640781719344.887   |     51443032442526.36     |  0.3623577544766736  |            0.0             |\n",
      "|  1e-14  |   186407817193445.62   |     514430324425263.7     |  0.3623577544766736  |            0.0             |\n",
      "|  1e-15  |   1864078171934453.0   |     5144303244252637.0    |  0.3623577544766736  |            0.0             |\n",
      "|  1e-16  | 1.864078171934453e+16  |   5.1443032442526376e+16  |  0.3623577544766736  |            0.0             |\n",
      "|  1e-17  | 1.8640781719344525e+17 |   5.144303244252637e+17   | 0.36235775447667357  |   1.5319432396701005e-16   |\n",
      "|  1e-18  | 1.8640781719344525e+18 |   5.144303244252636e+18   |  0.3623577544766736  |            0.0             |\n",
      "|  1e-19  | 1.8640781719344525e+19 |   5.144303244252637e+19   |  0.3623577544766736  |            0.0             |\n",
      "|  1e-20  | 1.8640781719344526e+20 |   5.144303244252637e+20   |  0.3623577544766736  |            0.0             |\n",
      "+---------+------------------------+---------------------------+----------------------+----------------------------+\n"
     ]
    }
   ],
   "source": [
    "from math import sin, cos\n",
    "from prettytable import PrettyTable\n",
    "\n",
    "# Define original and suggested formula\n",
    "def sin_deriv_approx(x,h):\n",
    "    return (sin(x+h) + sin(x))/h\n",
    "\n",
    "def sin_deriv_approx_suggested(x,h):\n",
    "    return (sin(x)*(cos(h)-1)+sin(h)*cos(x))/h\n",
    "\n",
    "# Choose values for h and value for x_0\n",
    "h_values = [10**(-i) for i in range(-1,21)]\n",
    "x_0 = 1.2\n",
    "\n",
    "# Calculate the derivative using the original approximation, the suggested approximation, and the cosine function \n",
    "# (for comparison) for each value of h chosen\\\n",
    "actual = cos(x_0)\n",
    "results = [(h, sin_deriv_approx(x_0,h), abs((actual - sin_deriv_approx(x_0,h))/actual), \n",
    "            sin_deriv_approx_suggested(x_0,h), abs((actual - sin_deriv_approx_suggested(x_0,h))/actual)) \n",
    "            for h in h_values]\n",
    "print(\"Actual derivative (cos(x_0)): \", actual)\n",
    "\n",
    "# Put the results into a table\n",
    "table = PrettyTable([\"h value\", \"Original approx\", \"Relative error (original)\", \n",
    "                     \"Suggested Approx\", \"Relative Error (suggested)\"])\n",
    "for result in results:\n",
    "    table.add_row(result)\n",
    "print(table)"
   ]
  },
  {
   "cell_type": "markdown",
   "metadata": {},
   "source": [
    "## Problem 3:\n",
    "### If you generate a row vector x containing all the floating point numbers in a give system, another row vector $ y $ of the same dimension as x containing $ 0 $'s, and then plot the discrete values of $ y $ vs $ x $ using the symbol '+', you'll get a picture of sorts of the floating point number system."
   ]
  },
  {
   "cell_type": "markdown",
   "metadata": {},
   "source": [
    "### Produce such a plot for the system $ (\\beta, t, L, U) = (2,3,-2,3) $. (Do not assume the IEEE special conventions.) What do you observe? Also, calculate the rounding unit for this modest floating point system."
   ]
  },
  {
   "cell_type": "code",
   "execution_count": 80,
   "metadata": {},
   "outputs": [
    {
     "name": "stdout",
     "output_type": "stream",
     "text": [
      "Rounding unit:  0.125\n"
     ]
    },
    {
     "data": {
      "image/png": "[encoded data removed]",
      "text/plain": [
       "<matplotlib.figure.Figure at 0x11008b358>"
      ]
     },
     "metadata": {},
     "output_type": "display_data"
    }
   ],
   "source": [
    "import matplotlib.pyplot as plt\n",
    "\n",
    "# Available values for significand (not including zero case)\n",
    "significand = [i*(2**-2) for i in range(1,8)]\n",
    "\n",
    "# Available values for exponent (-2,-1,0,1,2,3)\n",
    "exponents = range(-2,4)\n",
    "\n",
    "# All possible values \n",
    "x = [k*i*(2**j) for i in significand for j in exponents for k in [-1,1]]\n",
    "x.append(0)\n",
    "\n",
    "# Zero vector of same dimensions as x\n",
    "y = [0]*len(x)\n",
    "\n",
    "# Calculating the rounding unit\n",
    "rounding_unit = (2**(1-3))/2\n",
    "print(\"Rounding unit: \", rounding_unit)\n",
    "\n",
    "plt.figure(figsize=(16, 2))\n",
    "plt.scatter(x,y,marker=\"+\")\n",
    "plt.show()"
   ]
  },
  {
   "cell_type": "markdown",
   "metadata": {},
   "source": [
    "#### The graph shows that the available values in this floating point system are not evenly distributed. They are more closer to adjacent values around 0 and much farther away from adjacent values farther away from zero. There are no values between 12 and 14, for example, but plenty of values between just 0 and 2."
   ]
  },
  {
   "cell_type": "markdown",
   "metadata": {},
   "source": [
    "## Problem 4:\n",
    "### In the statistical treatment of data one often needs to compute the quantities\n",
    "### $$ \\begin{equation} \\overline x = \\frac{1}{n} \\sum_{i=1}^{n} x_i,  s^2 = \\frac{1}{n} \\sum_{i=1}^{n}(x_i - \\overline x)^2, \\end{equation}$$\n",
    "### where $ x_1, x_2,...,x_n $ are the given data. Assume that $ n $ is large, say $ n = 10,000 $. It is easy to see that $ s^2 $ can also be written as\n",
    "### $$ \\begin{equation} s^2 = \\frac{1}{n} \\sum_{i=1}^{n}x_i^2 - \\overline x^2. \\end{equation}$$"
   ]
  },
  {
   "cell_type": "markdown",
   "metadata": {},
   "source": [
    "### a) Which of the two methods to calculate $ s^2 $ is cheaper in terms of flop counts? (Assume $ \\overline x $ has already been calculated and give the operation counts for those two options.)\n",
    "#### The first formula performs n operations doing the subtraction $ x_i - \\overline x $, n operations performing the squaring of the result of the subtraction $ (x_i - \\overline x)^2 $, n operations summing the n resulting squares, and lastly, dividing the result of the sum takes one division. This adds up to 3n+1 operations.\n",
    "#### The second formula performs n operations for $ x_i^2 $, n operations adding each of those squares, one operation dividing that sum, one operation computing the square of the mean, and lastly, one operation subtracting the results of the two terms. This adds up to 2n+3 operations.\n",
    "#### Based on these counts, the second formula is cheaper in terms of number of floating point operations."
   ]
  },
  {
   "cell_type": "markdown",
   "metadata": {},
   "source": [
    "### b) Which of the two methods is expected to give more accurate results for $ s^2 $ in general? (Justify briefly.)\n",
    "#### Since the second formula performs fewer calculations, it will be more likely to avoid the various possible errors when calculating variance of the n samples and, as a result, provide a more accurate result for $ s^2 $."
   ]
  },
  {
   "cell_type": "markdown",
   "metadata": {},
   "source": [
    "### c) Write a little script to check whether your answer to the previous question was correct.\n",
    "#### Based on the results of the script below, neither formula was significantly more accurate than the other. In fact, their results did not differ until about $\\mathrm{e}{-12}$ for these random samples (with seed set to 100). The second formula, however, did produce the result in less time than the first much of the time (according to python time module)."
   ]
  },
  {
   "cell_type": "code",
   "execution_count": 81,
   "metadata": {},
   "outputs": [
    {
     "name": "stdout",
     "output_type": "stream",
     "text": [
      "Results of the calculation (with 20 significant figures after decimal)\n",
      "sum((x_i - x_mean)^2)/n:\t 10126.32353281864379823674 \ttime:\t 0.00023794174194335938\n",
      "sum((x_i)^2)/n - (x_mean)^2:\t 10126.32353281864561722614 \ttime:\t 9.512901306152344e-05\n",
      "Variance of distribution:\t 10000\n"
     ]
    }
   ],
   "source": [
    "import time\n",
    "import numpy as np\n",
    "np.random.seed(100)\n",
    "\n",
    "n = 10000\n",
    "sigma = 100\n",
    "mean = 50\n",
    "# 10000 normally distributed random numbers \n",
    "x = sigma*np.random.randn(10000) + mean\n",
    "x_mean = np.mean(x)\n",
    "\n",
    "def s2_subtract_first(x,x_mean):\n",
    "    return np.mean((x-x_mean)**2)\n",
    "    \n",
    "def s2_square_first(x,x_mean):\n",
    "    return np.mean(x**2) - (x_mean**2)\n",
    "\n",
    "time_a = time.time()\n",
    "variance_first_formula = s2_subtract_first(x,x_mean)\n",
    "time_b = time.time()\n",
    "variance_second_formula = s2_square_first(x,x_mean)\n",
    "time_c = time.time()\n",
    "\n",
    "print(\"Results of the calculation (with 20 significant figures after decimal)\")\n",
    "print(\"sum((x_i - x_mean)^2)/n:\\t\", '%.20f' % variance_first_formula, \"\\ttime:\\t\", time_b-time_a)\n",
    "print(\"sum((x_i)^2)/n - (x_mean)^2:\\t\", '%.20f' % variance_second_formula, \"\\ttime:\\t\", time_c-time_b)\n",
    "print(\"Variance of distribution:\\t\", sigma**2)\n"
   ]
  }
 ],
 "metadata": {
  "kernelspec": {
   "display_name": "Python 3",
   "language": "python",
   "name": "python3"
  },
  "language_info": {
   "codemirror_mode": {
    "name": "ipython",
    "version": 3
   },
   "file_extension": ".py",
   "mimetype": "text/x-python",
   "name": "python",
   "nbconvert_exporter": "python",
   "pygments_lexer": "ipython3",
   "version": "3.6.3"
  }
 },
 "nbformat": 4,
 "nbformat_minor": 2
}
