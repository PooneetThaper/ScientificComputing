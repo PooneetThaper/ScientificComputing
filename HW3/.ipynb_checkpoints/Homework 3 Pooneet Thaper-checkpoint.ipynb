{
 "cells": [
  {
   "cell_type": "markdown",
   "metadata": {},
   "source": [
    "<center>\n",
    "<h1>CSC 301 Spring 2018: Homework 3</h1>\n",
    "<h2>Pooneet Thaper</h2>\n",
    "<h2>Professor Irina Gladkova</h2>\n",
    "</center>"
   ]
  },
  {
   "cell_type": "markdown",
   "metadata": {
    "collapsed": true
   },
   "source": [
    "## Problem 1:\n",
    "### Splines can be used to approximate a “parametric curve” $(x(t),(y(t))$ by using a spline for each of the functions separately and then plotting the resulting function $y$ vs. $x$."
   ]
  },
  {
   "cell_type": "markdown",
   "metadata": {},
   "source": [
    "### Draw whatever you like on a graph paper, place a few points on your drawing and take down the coordinates of the points (it doesn’t have to be many points: 5 to 12 points is enough, depending on the drawing if chosen wisely)."
   ]
  },
  {
   "cell_type": "code",
   "execution_count": 12,
   "metadata": {},
   "outputs": [
    {
     "data": {
      "image/png": "[encoded data removed]",
      "text/plain": [
       "<matplotlib.figure.Figure at 0x110bb1860>"
      ]
     },
     "metadata": {},
     "output_type": "display_data"
    }
   ],
   "source": [
    "import numpy as np\n",
    "import matplotlib.pyplot as plt\n",
    "\n",
    "np.random.seed(64)\n",
    "num_points = 9\n",
    "\n",
    "x_values = np.random.rand(num_points)\n",
    "y_values = np.random.rand(num_points)\n",
    "\n",
    "plt.scatter(x_values, y_values)\n",
    "plt.show()"
   ]
  },
  {
   "cell_type": "markdown",
   "metadata": {},
   "source": [
    "### Create two arrays with these data and find the spline approximations $S_x(t)$ and $S_y(t)$ for each of the functions $x(t)$ and $y(t)$ with parameter $t$ representing the array index. Plot the resulting $S_x(t)$ vs. $S_y(t)$.\n",
    "\n",
    "#### Cubic spline:\n",
    "$$\n",
    "\\begin{equation}\\label{xx}\n",
    "q(x) = a_0 + a_1(x-x_L) + a_2(x-x_L)^2 + a_3(x-x_L)^2(x-x_R) \\\\\n",
    "a_0 = y_L \\\\\n",
    "a_1 = S_L \\\\\n",
    "a_2 = \\frac{\\frac{y_R - y_L}{x_R - x_L} - S_L}{x_R - x_L} \\\\\n",
    "a_3 = \\frac{S_R + S_L - 2 \\frac{y_R - y_L}{x_R - x_L}}{(x_R - x_L)^2}\n",
    "\\end{equation}\n",
    "$$"
   ]
  },
  {
   "cell_type": "code",
   "execution_count": null,
   "metadata": {},
   "outputs": [],
   "source": [
    "def cubic_spline()"
   ]
  },
  {
   "cell_type": "code",
   "execution_count": null,
   "metadata": {},
   "outputs": [],
   "source": []
  }
 ],
 "metadata": {
  "kernelspec": {
   "display_name": "Python 3",
   "language": "python",
   "name": "python3"
  },
  "language_info": {
   "codemirror_mode": {
    "name": "ipython",
    "version": 3
   },
   "file_extension": ".py",
   "mimetype": "text/x-python",
   "name": "python",
   "nbconvert_exporter": "python",
   "pygments_lexer": "ipython3",
   "version": "3.6.4"
  }
 },
 "nbformat": 4,
 "nbformat_minor": 2
}
